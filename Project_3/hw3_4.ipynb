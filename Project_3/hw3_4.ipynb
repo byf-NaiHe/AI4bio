{
 "cells": [
  {
   "cell_type": "markdown",
   "metadata": {},
   "source": [
    "# **Introduction**"
   ]
  },
  {
   "cell_type": "markdown",
   "metadata": {},
   "source": [
    "**About Dataset**\n",
    "\n",
    "* **Breast cancer** is one of the **most common** causes of death among **women worldwide**. Early detection helps in reducing the **number of early deaths**. The data reviews the **medical images of breast cancer** using ultrasound scan. **Breast Ultrasound Dataset** is categorized into **three classes** $:$ **normal, benign, and malignant images**. **Breast ultrasound images** can produce great results in **classification, detection, and segmentation** of breast cancer when combined with machine learning. \n",
    "\n",
    "* The data collected at baseline include **breast ultrasound images among women** in ages between 25 and 75 years old. This data was collected in **2018**. The number of patients is **600 female patients**. The dataset consists of **780 images** with an **average image size of 500*500 pixels**. The images are in PNG format. The ground truth images are presented with original images. The images are categorized into **three classes, which are normal, benign, and malignant**.\n",
    "\n",
    "**Model Architecture**\n",
    "\n",
    "* Vision Transformer to classify different tumor types\n",
    "* Mask2Former to identify tumor areas"
   ]
  },
  {
   "cell_type": "markdown",
   "metadata": {},
   "source": [
    "## **Problem 1**"
   ]
  },
  {
   "cell_type": "markdown",
   "metadata": {},
   "source": [
    "### **Data Processing**"
   ]
  },
  {
   "cell_type": "code",
   "execution_count": 363,
   "metadata": {},
   "outputs": [],
   "source": [
    "# data processing \n",
    "import os\n",
    "from PIL import Image\n",
    "import torch\n",
    "from torch.utils.data import Dataset\n",
    "from torchvision import transforms\n",
    "import random\n",
    "from torchvision import models"
   ]
  },
  {
   "cell_type": "code",
   "execution_count": 257,
   "metadata": {},
   "outputs": [],
   "source": [
    "class BreastUltrasoundDataset(Dataset):\n",
    "    def __init__(self, root_dir, transform=None):\n",
    "        \"\"\"\n",
    "        :param root_dir: 包含子文件夹 ('benign', 'malignant', 'normal') 的根目录路径\n",
    "        :param transform: 用于图像增强的transform\n",
    "        \"\"\"\n",
    "        self.root_dir = root_dir\n",
    "        self.transform = transform\n",
    "        \n",
    "        # 获取子文件夹名称（即类别名）\n",
    "        self.class_names = os.listdir(root_dir)\n",
    "        \n",
    "        # 存储所有图像的路径\n",
    "        self.image_paths = []\n",
    "        for class_name in self.class_names:\n",
    "            class_folder = os.path.join(root_dir, class_name)\n",
    "            image_files = [f for f in os.listdir(class_folder) if f.endswith('.png') and '_mask' not in f]\n",
    "            for img_file in image_files:\n",
    "                self.image_paths.append((class_name, os.path.join(class_folder, img_file)))\n",
    "\n",
    "        # 定义标签\n",
    "        self.label_map = {'normal': 0, 'benign': 1, 'malignant': 2}\n",
    "    \n",
    "    def __len__(self):\n",
    "        return len(self.image_paths)\n",
    "    \n",
    "    def __getitem__(self, idx):\n",
    "        class_name, img_path = self.image_paths[idx]\n",
    "        \n",
    "        # 加载原始图像和mask图像\n",
    "        image = Image.open(img_path).convert(\"RGB\")\n",
    "        mask_path = img_path.replace('.png', '_mask.png')  # mask 图像和原始图像同名，只是多了 \"_mask\"\n",
    "        mask = Image.open(mask_path).convert(\"L\")  # mask 是单通道图像，L模式\n",
    "        \n",
    "        # 获取标签（根据文件夹名推断标签）\n",
    "        label = self.label_map[class_name]\n",
    "        \n",
    "        # 应用数据增强和预处理\n",
    "        if self.transform:\n",
    "            image, mask = self.transform(image, mask)\n",
    "        \n",
    "        return image, mask, label"
   ]
  },
  {
   "cell_type": "code",
   "execution_count": 258,
   "metadata": {},
   "outputs": [],
   "source": [
    "def custom_transform(image, mask):\n",
    "    \"\"\"\n",
    "    自定义数据增强和预处理操作。\n",
    "    \n",
    "    该函数对输入的图像和掩膜进行一系列变换：\n",
    "    - 图像进行缩放、随机水平翻转、随机旋转、转为Tensor并进行标准化。\n",
    "    - 掩膜进行相同的变换（除标准化外），以确保图像和掩膜保持一致。\n",
    "    \n",
    "    :param image: 输入的图像（PIL格式）\n",
    "    :param mask: 对应的掩膜图像（PIL格式），单通道（L模式）\n",
    "    \n",
    "    :return: 返回处理后的图像和掩膜（Tensor格式）\n",
    "    \"\"\"\n",
    "    \n",
    "    # 图像预处理变换\n",
    "    image_transform = transforms.Compose([\n",
    "        transforms.Resize((256, 256)),  # 将图像缩放到 256x256 尺寸\n",
    "        transforms.RandomHorizontalFlip(),  # 随机进行水平翻转（50%的概率）\n",
    "        transforms.RandomRotation(30),  # 随机旋转图像，旋转角度范围为[-30, 30]度\n",
    "        transforms.ToTensor(),  # 将图像从PIL格式转换为Tensor格式，并且将像素值从[0, 255]标准化到[0, 1]\n",
    "        transforms.Normalize(mean=[0.485, 0.456, 0.406], std=[0.229, 0.224, 0.225])  # 根据ImageNet的均值和标准差进行归一化\n",
    "    ])\n",
    "    \n",
    "    # 掩膜预处理变换\n",
    "    mask_transform = transforms.Compose([\n",
    "        transforms.Resize((256, 256)),  # 将掩膜缩放到 256x256 尺寸\n",
    "        transforms.RandomHorizontalFlip(),  # 随机进行水平翻转（50%的概率）\n",
    "        transforms.RandomRotation(30),  # 随机旋转掩膜，旋转角度范围为[-30, 30]度\n",
    "        transforms.ToTensor()  # 将掩膜从PIL格式转换为Tensor格式，掩膜通常是单通道图像，值为0或1\n",
    "    ])\n",
    "    \n",
    "    # 应用图像和掩膜的转换\n",
    "    image = image_transform(image)  # 对图像进行转换\n",
    "    mask = mask_transform(mask)  # 对掩膜进行转换\n",
    "    \n",
    "    return image, mask  # 返回处理后的图像和掩膜\n"
   ]
  },
  {
   "cell_type": "code",
   "execution_count": 259,
   "metadata": {},
   "outputs": [],
   "source": [
    "# 创建数据集实例\n",
    "root_dir = '/data2404/buyf/Class/ai4bio/hw3_4/Dataset_BUSI_with_GT'  # 数据集根目录，包含 bening、malignant 和 normal 文件夹\n",
    "dataset = BreastUltrasoundDataset(root_dir=root_dir, transform=custom_transform)"
   ]
  },
  {
   "cell_type": "code",
   "execution_count": 337,
   "metadata": {},
   "outputs": [
    {
     "name": "stdout",
     "output_type": "stream",
     "text": [
      "torch.Size([3, 256, 256]) torch.Size([1, 256, 256]) 2\n"
     ]
    }
   ],
   "source": [
    "# 测试数据集类\n",
    "image, mask, label = dataset[0]\n",
    "print(image.shape, mask.shape, label)"
   ]
  },
  {
   "cell_type": "code",
   "execution_count": 145,
   "metadata": {},
   "outputs": [
    {
     "name": "stdout",
     "output_type": "stream",
     "text": [
      "Label proportions:\n",
      "Label 2: 0.2692 (210 samples)\n",
      "Label 0: 0.1705 (133 samples)\n",
      "Label 1: 0.5603 (437 samples)\n"
     ]
    }
   ],
   "source": [
    "from collections import Counter\n",
    "\n",
    "# 初始化标签计数器\n",
    "label_counter = Counter()\n",
    "\n",
    "# 遍历数据集并统计每个标签的数量\n",
    "for _, _, label in dataset:\n",
    "    label_counter[label] += 1  # \n",
    "\n",
    "# 计算每个标签的比例\n",
    "total_samples = len(dataset)\n",
    "label_proportions = {label: count / total_samples for label, count in label_counter.items()}\n",
    "\n",
    "# 打印标签比例\n",
    "print(\"Label proportions:\")\n",
    "for label, proportion in label_proportions.items():\n",
    "    print(f\"Label {label}: {proportion:.4f} ({label_counter[label]} samples)\")\n"
   ]
  },
  {
   "cell_type": "markdown",
   "metadata": {},
   "source": [
    "发现数据标签不均衡使用原始数据标签会严重影响分类的效果，因此对训练集采用SMOTE进行数据均衡。"
   ]
  },
  {
   "cell_type": "code",
   "execution_count": 98,
   "metadata": {},
   "outputs": [],
   "source": [
    "from torch.utils.data import DataLoader, random_split\n",
    "from sklearn.model_selection import train_test_split\n",
    "import numpy as np"
   ]
  },
  {
   "cell_type": "code",
   "execution_count": 338,
   "metadata": {},
   "outputs": [],
   "source": [
    "# Step 1: 创建一个 DataLoader 用于加载数据\n",
    "# 将 dataset 划分为训练集和测试集\n",
    "train_size = int(0.7 * len(dataset))  # 70% 用于训练\n",
    "remaining_size = len(dataset) - train_size  # 剩余 30%\n",
    "val_size = int(0.5 * remaining_size)  # 剩余的 30% 中的一半用于验证集\n",
    "test_size = remaining_size - val_size  # 另一半用于测试集\n",
    "\n",
    "train_dataset, remaining_dataset = random_split(dataset, [train_size, remaining_size])\n",
    "val_dataset, test_dataset = random_split(remaining_dataset, [val_size, test_size])"
   ]
  },
  {
   "cell_type": "code",
   "execution_count": 339,
   "metadata": {},
   "outputs": [],
   "source": [
    "# Step 2: 采用SMOTE进行数据标签均衡\n",
    "from imblearn.over_sampling import SMOTE\n",
    "from torch.utils.data import DataLoader, TensorDataset\n",
    "\n",
    "# 提取训练数据和标签\n",
    "train_images = []\n",
    "train_labels = []\n",
    "\n",
    "for images, masks, labels in train_dataset:\n",
    "    train_images.append(images.numpy())\n",
    "    train_labels.append(labels)\n",
    "\n",
    "train_images = np.array(train_images)\n",
    "train_labels = np.array(train_labels)\n",
    "\n",
    "# 将数据展平以适应 SMOTE\n",
    "n_samples, n_channels, height, width = train_images.shape\n",
    "train_images_flat = train_images.reshape((n_samples, -1))\n",
    "\n",
    "# 使用 SMOTE 进行过采样\n",
    "smote = SMOTE(random_state=42)\n",
    "train_images_resampled, train_labels_resampled = smote.fit_resample(train_images_flat, train_labels)\n",
    "\n",
    "# 将数据恢复到原始形状\n",
    "train_images_resampled = train_images_resampled.reshape((-1, n_channels, height, width))\n",
    "\n",
    "# 转换为 Tensor\n",
    "train_images_resampled = torch.tensor(train_images_resampled, dtype=torch.float32)\n",
    "train_labels_resampled = torch.tensor(train_labels_resampled, dtype=torch.long)\n",
    "\n",
    "# 创建新的训练数据集\n",
    "train_dataset_resampled = TensorDataset(train_images_resampled, train_labels_resampled)\n",
    "\n",
    "# 创建 DataLoader\n",
    "train_loader_resampled = DataLoader(train_dataset_resampled, batch_size=32, shuffle=True)"
   ]
  },
  {
   "cell_type": "code",
   "execution_count": 340,
   "metadata": {},
   "outputs": [],
   "source": [
    "from einops import rearrange, repeat\n",
    "from einops.layers.torch import Rearrange"
   ]
  },
  {
   "cell_type": "code",
   "execution_count": 341,
   "metadata": {},
   "outputs": [],
   "source": [
    "# Step 3: 创建 DataLoader\n",
    "val_loader = DataLoader(val_dataset, batch_size=32, shuffle=False)\n",
    "test_loader = DataLoader(test_dataset, batch_size=32, shuffle=False)"
   ]
  },
  {
   "cell_type": "markdown",
   "metadata": {},
   "source": [
    "### **Model Architect : Vision Transformer**"
   ]
  },
  {
   "cell_type": "code",
   "execution_count": 342,
   "metadata": {},
   "outputs": [],
   "source": [
    "import torch\n",
    "from torch import nn, einsum\n",
    "import torch.nn.functional as F\n",
    "from torch.autograd import Variable\n",
    "import numpy as np\n",
    "import matplotlib.pyplot as plt\n",
    "from PIL import Image"
   ]
  },
  {
   "cell_type": "code",
   "execution_count": 343,
   "metadata": {},
   "outputs": [],
   "source": [
    "class PreNorm(nn.Module):\n",
    "    def __init__(self, emb_size, fn):\n",
    "        super().__init__()\n",
    "        self.norm = nn.LayerNorm(emb_size)\n",
    "        self.fn = fn\n",
    "    def forward(self, x, **kwargs):\n",
    "        return self.fn(self.norm(x), **kwargs)"
   ]
  },
  {
   "cell_type": "code",
   "execution_count": 344,
   "metadata": {},
   "outputs": [],
   "source": [
    "class FeedForward(nn.Module):\n",
    "    def __init__(self, emb_size, hidden_dim, dropout=0.1):\n",
    "        super().__init__()\n",
    "        self.net = nn.Sequential(\n",
    "            nn.Linear(emb_size, hidden_dim),\n",
    "            nn.GELU(),\n",
    "            nn.Dropout(dropout),\n",
    "            nn.Linear(hidden_dim, emb_size), \n",
    "            nn.Dropout(dropout)\n",
    "        )\n",
    "    def forward(self, x):\n",
    "        return self.net(x)"
   ]
  },
  {
   "cell_type": "code",
   "execution_count": 346,
   "metadata": {},
   "outputs": [],
   "source": [
    "class Attention(nn.Module):              \n",
    "    def __init__(self, emb_size, num_heads=12, dim_head=64, dropout=0.1):\n",
    "        super().__init__()\n",
    "        \n",
    "        # 计算内部维度\n",
    "        inner_dim = dim_head * num_heads\n",
    "\n",
    "        self.heads = num_heads  # 注意力头的数量\n",
    "        self.scale = dim_head ** -0.5  # 缩放因子，用于稳定点积注意力的计算\n",
    "\n",
    "        # Softmax层，用于计算注意力权重\n",
    "        self.attend = nn.Softmax(dim=-1)\n",
    "        # 用于生成查询、键、值的线性变换\n",
    "        self.to_qkv = nn.Linear(emb_size, inner_dim * 3, bias=False)\n",
    "\n",
    "        # 输出层，进行最终的线性变换和dropout\n",
    "        self.to_out = nn.Sequential(\n",
    "            nn.Linear(inner_dim, emb_size),\n",
    "            nn.Dropout(dropout),\n",
    "        ) \n",
    "\n",
    "    def forward(self, x):\n",
    "        # 获取输入的批量大小、序列长度和特征维度\n",
    "        b, n, _, h = *x.shape, self.heads\n",
    "    \n",
    "        # 将输入x转换为查询、键和值\n",
    "        qkv = self.to_qkv(x).chunk(3, dim=-1)  # 将输出分成q、k、v三部分\n",
    "        # 重排q、k、v，使其形状为 (b, h, n, dim_head)\n",
    "        q, k, v = map(lambda t: rearrange(t, 'b n (h d) -> b h n d', h=h), qkv)\n",
    "\n",
    "        # DropKey操作：随机丢弃部分键和值\n",
    "        if self.training:  # 仅在训练时应用DropKey\n",
    "            drop_prob = 0.1  # 设置丢弃概率\n",
    "            mask = (torch.rand((b, h, n)) > drop_prob).float()  # 生成掩码\n",
    "            k = k * mask.unsqueeze(-1)  # 应用掩码到键\n",
    "            v = v * mask.unsqueeze(-1)  # 应用掩码到值\n",
    "\n",
    "        # 计算注意力权重\n",
    "        dots = einsum('b h i d, b h j d -> b h i j', q, k) * self.scale  # 计算点积并缩放\n",
    "\n",
    "        attn = self.attend(dots)  # 计算注意力权重\n",
    "\n",
    "        # 应用注意力权重到值上\n",
    "        out = einsum('b h i j, b h j d -> b h i d', attn, v)\n",
    "        # 重排输出，使其形状为 (b, n, h * dim_head)\n",
    "        out = rearrange(out, 'b h n d -> b n (h d)')\n",
    "    \n",
    "        return self.to_out(out)  # 最后通过输出层\n"
   ]
  },
  {
   "cell_type": "code",
   "execution_count": 347,
   "metadata": {},
   "outputs": [],
   "source": [
    "class Transformer(nn.Module):\n",
    "    def __init__(self, emb_size, num_layers, num_heads, dim_head, mlp_dim, dropout=0.1):\n",
    "        super().__init__()\n",
    "        self.layers = nn.ModuleList([])\n",
    "        for _ in range(num_layers):\n",
    "            self.layers.append(nn.ModuleList([\n",
    "                PreNorm(emb_size, Attention(emb_size, num_heads=num_heads, dim_head=dim_head, dropout=dropout)),\n",
    "                PreNorm(emb_size, FeedForward(emb_size, mlp_dim, dropout=dropout))\n",
    "            ]))\n",
    "    \n",
    "    def forward(self, x):\n",
    "        for attn, ff in self.layers:\n",
    "            x = attn(x) + x\n",
    "            x = ff(x) + x\n",
    "        return x"
   ]
  },
  {
   "cell_type": "code",
   "execution_count": 348,
   "metadata": {},
   "outputs": [],
   "source": [
    "class VisionTransformer(nn.Module):\n",
    "    def __init__(self, img_size=256, patch_size=16, num_classes=3, emb_size=1024, num_heads=12, dim_head=64, num_layers=6, mlp_dim=2048, dropout=0.1):\n",
    "        \"\"\"\n",
    "        :param img_size: 图像的大小 (默认为256x256)\n",
    "        :param patch_size: 每个 patch 的大小 (默认为16x16)\n",
    "        :param num_classes: 输出类别数 (默认为86，用于分类任务)\n",
    "        :param emb_size: Transformer 的 embedding 大小 (默认为768)\n",
    "        :param num_heads: Transformer 中的注意力头数\n",
    "        :param num_layers: Transformer 中的层数\n",
    "        :param mlp_dim: MLP 层的维度\n",
    "        :param dropout: dropout rate\n",
    "        \"\"\"\n",
    "        super(VisionTransformer, self).__init__()\n",
    "\n",
    "        # 图像分块（patch embedding）\n",
    "        self.patch_size = patch_size\n",
    "        self.img_size = img_size\n",
    "        self.num_patches = (img_size // patch_size) ** 2\n",
    "\n",
    "        # patch embedding: 将每个 patch 扁平化并映射到一个高维向量\n",
    "        self.patch_embedding = nn.Conv2d(in_channels=3, out_channels=emb_size, kernel_size=patch_size, stride=patch_size)\n",
    "\n",
    "        # Class Token 用于表示图像的整体表示\n",
    "        self.class_token = nn.Parameter(torch.zeros(1, 1, emb_size))\n",
    "\n",
    "        # Positional Encoding\n",
    "        self.position_encoding = nn.Parameter(torch.zeros(1, self.num_patches + 1, emb_size))\n",
    "\n",
    "        # Transformer 层\n",
    "        self.transformer = Transformer(emb_size, num_layers, num_heads, dim_head, mlp_dim, dropout=0.1)\n",
    "\n",
    "        # 最后一个 MLP 层，用于分类\n",
    "        self.mlp_head = nn.Sequential(\n",
    "            nn.LayerNorm(emb_size),\n",
    "            nn.Linear(emb_size, num_classes)\n",
    "        )\n",
    "\n",
    "    def forward(self, x):\n",
    "        # 将图像转换为 patches，并添加 class token 和位置编码\n",
    "        x = self.patch_embedding(x)  # 输出形状为 (batch_size, emb_size, num_patches_h, num_patches_w)\n",
    "        x = x.flatten(2).transpose(1, 2)  # 将形状转换为 (batch_size, num_patches, emb_size)\n",
    "        \n",
    "        # 加上 class token 和位置编码\n",
    "        class_tokens = self.class_token.expand(x.size(0), -1, -1)\n",
    "        x = torch.cat((class_tokens, x), dim=1)\n",
    "        x = x + self.position_encoding\n",
    "        \n",
    "        # 通过 Transformer 层\n",
    "        x = self.transformer(x)\n",
    "\n",
    "        # 获取 class token 输出并进行分类\n",
    "        x = x[:, 0]  # 选择第一个位置，作为整体图像表示\n",
    "        x = self.mlp_head(x)  # (batch_size, num_classes)\n",
    "\n",
    "        return x\n"
   ]
  },
  {
   "cell_type": "markdown",
   "metadata": {},
   "source": [
    "基于 Vision Transformer（ViT）的图像分类模型，其架构包含以下几个关键部分：\n",
    "\n",
    "1. **图像分块 (Patch Embedding)**：首先，输入的图像被分成固定大小的块（patches）。每个块被卷积操作扁平化，并映射到一个高维的嵌入空间，这个嵌入空间的维度由 `emb_size` 控制。通过卷积操作，每个块的空间信息被保留，并将图像转换为一组固定大小的向量。\n",
    "\n",
    "2. **Class Token 和位置编码 (Positional Encoding)**：为了捕捉整个图像的上下文信息，模型引入了一个 **Class Token**，它代表整个图像的表示，类似于 BERT 中的 [CLS] token。位置编码则用于注入输入块的位置信息，从而使模型能够理解块之间的空间关系。位置编码被加到每个图像块的嵌入上。\n",
    "\n",
    "3. **Transformer 层**：这些嵌入（包含 class token 和位置编码）被传入多个 Transformer 层进行处理。Transformer 层由多头自注意力机制和多层感知机（MLP）组成，能够有效捕捉图像块之间的复杂关系。注意力机制使得每个图像块能够与其他图像块的信息进行交互，从而形成更丰富的特征表示。\n",
    "\n",
    "4. **分类头 (Classification Head)**：通过 Transformer 层处理后，模型取出 **Class Token** 的输出作为整个图像的表示。最后，经过一个 **MLP 层**（包含 `LayerNorm` 和 `Linear` 层）进行分类，输出最终的分类结果。\n",
    "\n",
    "该模型的优势在于它能够处理大尺寸的图像，并通过 Transformer 强大的建模能力捕捉图像全局的语义信息，尤其适用于图像分类任务。"
   ]
  },
  {
   "cell_type": "code",
   "execution_count": 349,
   "metadata": {},
   "outputs": [],
   "source": [
    "# 实例化 VisionTransformer 模型\n",
    "model = VisionTransformer(img_size=256, patch_size= 32, num_classes=3, emb_size= 256, \n",
    "                          num_heads= 6, dim_head= 32, num_layers= 3, mlp_dim= 256, dropout=0.1)"
   ]
  },
  {
   "cell_type": "markdown",
   "metadata": {},
   "source": [
    "实例化 `VisionTransformer` 模型将图像大小设置为 `256x256`，每个 patch 大小为 `32x32`，适用于 3 类分类任务。每个 patch 被嵌入到一个 256 维的向量中，使用 6 个自注意力头（每个头的维度为 32）和 3 层 Transformer 层进行特征提取。前馈网络（MLP）的隐藏层维度为 256，使用 10% 的 dropout 进行正则化，同时10%的dropKey防止过拟合。"
   ]
  },
  {
   "cell_type": "code",
   "execution_count": 66,
   "metadata": {},
   "outputs": [],
   "source": [
    "from tensorboardX import SummaryWriter\n",
    "import torch\n",
    "\n",
    "# 创建一个假输入（模拟输入数据）\n",
    "input_image = torch.randn(1, 3, 256, 256)  # Batch size 为 1 的输入\n",
    "\n",
    "# 创建 SummaryWriter，用于将数据写入 TensorBoard\n",
    "writer = SummaryWriter()\n",
    "\n",
    "# 传入模型和输入数据\n",
    "writer.add_graph(model, input_image)\n",
    "\n",
    "# 关闭 SummaryWriter\n",
    "writer.close()\n",
    "\n",
    "# 启动 TensorBoard：在终端运行 `tensorboard --logdir runs`"
   ]
  },
  {
   "cell_type": "markdown",
   "metadata": {},
   "source": [
    "采用TensorBoard查看模型架构。"
   ]
  },
  {
   "cell_type": "markdown",
   "metadata": {},
   "source": [
    "### **Train Vision Transformer**"
   ]
  },
  {
   "cell_type": "code",
   "execution_count": 350,
   "metadata": {},
   "outputs": [],
   "source": [
    "import torch.optim as optim\n",
    "import torch.nn as nn\n",
    "import logging"
   ]
  },
  {
   "cell_type": "code",
   "execution_count": 351,
   "metadata": {},
   "outputs": [],
   "source": [
    "# 初始化日志\n",
    "logging.basicConfig(filename=\"training_log.txt\", level=logging.INFO)\n",
    "logging.info(\"Epoch\\tTrain Loss\\tTrain Accuracy\")\n"
   ]
  },
  {
   "cell_type": "code",
   "execution_count": 352,
   "metadata": {},
   "outputs": [],
   "source": [
    "# 选择损失函数和优化器\n",
    "optimizer = torch.optim.Adam(model.parameters(), lr=0.0001)\n",
    "# 使用学习率调度器\n",
    "scheduler = torch.optim.lr_scheduler.ReduceLROnPlateau(optimizer, 'min', patience=3, factor=0.5)"
   ]
  },
  {
   "cell_type": "code",
   "execution_count": 353,
   "metadata": {},
   "outputs": [],
   "source": [
    "class FocalLoss(nn.Module):\n",
    "    def __init__(self, alpha=1, gamma=2, reduction='mean'):\n",
    "        super(FocalLoss, self).__init__()\n",
    "        self.alpha = alpha  # 控制类别平衡\n",
    "        self.gamma = gamma  # 调整难易样本的惩罚程度\n",
    "        self.reduction = reduction  # 'mean' or 'sum'\n",
    "\n",
    "    def forward(self, inputs, targets):\n",
    "        # 输入 (inputs) 是模型的输出 logits (未经过 softmax)\n",
    "        # 目标 (targets) 是标签的索引（0, 1, ..., C-1）\n",
    "\n",
    "        # 计算交叉熵损失\n",
    "        BCE_loss = F.cross_entropy(inputs, targets, reduction='none')\n",
    "        \n",
    "        # 计算每个样本的预测概率\n",
    "        pt = torch.exp(-BCE_loss)  # pt 是样本被正确分类的概率\n",
    "        \n",
    "        # 计算焦点损失\n",
    "        F_loss = self.alpha * (1 - pt) ** self.gamma * BCE_loss\n",
    "\n",
    "        if self.reduction == 'mean':\n",
    "            return F_loss.mean()\n",
    "        elif self.reduction == 'sum':\n",
    "            return F_loss.sum()\n",
    "        else:\n",
    "            return F_loss\n"
   ]
  },
  {
   "cell_type": "markdown",
   "metadata": {},
   "source": [
    "为了减少数据标签不均衡对模型效果，使用FocalLoss更多的关注数量少的样本类型，赋予更大的损失权重。"
   ]
  },
  {
   "cell_type": "code",
   "execution_count": null,
   "metadata": {},
   "outputs": [
    {
     "name": "stdout",
     "output_type": "stream",
     "text": [
      "Epoch [1/50], Loss: 0.6224, Accuracy: 34.87%\n",
      "Validation Loss: 1.0524, Accuracy: 50.43%\n",
      "Epoch [2/50], Loss: 0.4934, Accuracy: 41.01%\n",
      "Validation Loss: 1.0169, Accuracy: 52.14%\n",
      "Epoch [3/50], Loss: 0.4675, Accuracy: 41.89%\n",
      "Validation Loss: 1.0817, Accuracy: 35.04%\n",
      "Epoch [4/50], Loss: 0.4515, Accuracy: 47.48%\n",
      "Validation Loss: 1.1313, Accuracy: 28.21%\n",
      "Epoch [5/50], Loss: 0.4387, Accuracy: 47.70%\n",
      "Validation Loss: 0.9894, Accuracy: 41.03%\n",
      "Epoch [6/50], Loss: 0.4195, Accuracy: 49.89%\n",
      "Validation Loss: 1.0670, Accuracy: 38.46%\n",
      "Epoch [7/50], Loss: 0.3881, Accuracy: 57.24%\n",
      "Validation Loss: 1.0161, Accuracy: 41.88%\n",
      "Epoch [8/50], Loss: 0.3711, Accuracy: 55.81%\n",
      "Validation Loss: 0.9974, Accuracy: 42.74%\n",
      "Epoch [9/50], Loss: 0.3447, Accuracy: 61.07%\n",
      "Validation Loss: 1.0530, Accuracy: 38.46%\n",
      "Epoch [10/50], Loss: 0.2953, Accuracy: 65.35%\n",
      "Validation Loss: 0.8612, Accuracy: 58.12%\n",
      "Epoch [11/50], Loss: 0.2616, Accuracy: 68.86%\n",
      "Validation Loss: 0.8935, Accuracy: 54.70%\n",
      "Epoch [12/50], Loss: 0.2426, Accuracy: 71.05%\n",
      "Validation Loss: 0.9161, Accuracy: 51.28%\n",
      "Epoch [13/50], Loss: 0.2235, Accuracy: 74.67%\n",
      "Validation Loss: 1.0014, Accuracy: 45.30%\n",
      "Epoch [14/50], Loss: 0.2010, Accuracy: 75.55%\n",
      "Validation Loss: 0.9356, Accuracy: 52.14%\n",
      "Epoch [15/50], Loss: 0.1691, Accuracy: 79.93%\n",
      "Validation Loss: 0.9299, Accuracy: 45.30%\n",
      "Early stopping after epoch 15\n",
      "Best model saved as 'best_model_full.pth'\n"
     ]
    }
   ],
   "source": [
    "# 训练模型\n",
    "num_epochs = 50  # 最多训练50个epoch\n",
    "# 设置早停参数，防止过拟合\n",
    "patience = 5  # 允许验证集损失无改善的最大 epoch 数\n",
    "best_loss = float(\"inf\")  # 初始最好的损失设为无穷大\n",
    "counter = 0  # 当前没有改善的 epoch 数\n",
    "best_model_state = None  # 保存最优模型\n",
    "\n",
    "for epoch in range(num_epochs):\n",
    "    model.train()  # 设置模型为训练模式\n",
    "    running_loss = 0.0\n",
    "    correct = 0\n",
    "    total = 0\n",
    "    criterion = FocalLoss(alpha=1.0, gamma=2.0, reduction='mean')  # 可以根据需要调整 alpha 和 gamma\n",
    "    # criterion = nn.CrossEntropyLoss()\n",
    "    \n",
    "    # 训练集\n",
    "    for images, labels in train_loader_resampled:\n",
    "        optimizer.zero_grad()  # 清空梯度\n",
    "        \n",
    "        # 前向传播\n",
    "        outputs = model(images)  # 得到分类结果（logits）\n",
    "        \n",
    "        # 计算损失\n",
    "        loss = criterion(outputs, labels)\n",
    "        \n",
    "        # 反向传播和优化\n",
    "        loss.backward()\n",
    "        optimizer.step()\n",
    "\n",
    "        running_loss += loss.item()\n",
    "\n",
    "        # 计算分类准确率\n",
    "        _, predicted = torch.max(outputs, 1)\n",
    "        total += labels.size(0)\n",
    "        correct += (predicted == labels).sum().item()\n",
    "\n",
    "    # 每个epoch的训练损失和准确率\n",
    "    epoch_loss = running_loss / len(train_loader)\n",
    "    epoch_acc = correct / total * 100\n",
    "    \n",
    "    # 输出日志文件\n",
    "    logging.info(f\"{epoch+1}\\t{epoch_loss:.4f}\\t{epoch_acc:.2f}%\")\n",
    "\n",
    "    # 打印训练日志\n",
    "    print(f\"Epoch [{epoch+1}/{num_epochs}], Loss: {epoch_loss:.4f}, Accuracy: {epoch_acc:.2f}%\")\n",
    "\n",
    "    # 验证集（用于早停判断）\n",
    "    model.eval()  # 设置模型为评估模式\n",
    "    val_loss = 0.0\n",
    "    val_correct = 0\n",
    "    val_total = 0\n",
    "    # criterion = FocalLoss(alpha=10.0, gamma=2.0, reduction='mean')  # 可以根据需要调整 alpha 和 gamma\n",
    "    criterion = nn.CrossEntropyLoss()\n",
    "    \n",
    "    with torch.no_grad():  # 不计算梯度\n",
    "        for images, masks, labels in val_loader:\n",
    "            labels = labels.long()\n",
    "\n",
    "            outputs = model(images)\n",
    "            loss = criterion(outputs, labels)\n",
    "\n",
    "            val_loss += loss.item()\n",
    "\n",
    "            # 计算验证集准确率\n",
    "            _, predicted = torch.max(outputs, 1)\n",
    "            val_total += labels.size(0)\n",
    "            val_correct += (predicted == labels).sum().item()\n",
    "\n",
    "    val_loss /= len(val_loader)\n",
    "    val_acc = val_correct / val_total * 100\n",
    "    \n",
    "    # 记录学习率\n",
    "    scheduler.step(val_loss)\n",
    "\n",
    "    print(f\"Validation Loss: {val_loss:.4f}, Accuracy: {val_acc:.2f}%\")\n",
    "\n",
    "    # Step 4: 判断早停和保存最优模型\n",
    "    if val_loss < best_loss:\n",
    "        best_loss = val_loss\n",
    "        counter = 0  # 如果损失有改善，则重置counter\n",
    "        best_model = model\n",
    "    else:\n",
    "        counter += 1  # 如果损失没有改善，增加counter\n",
    "\n",
    "    # 如果连续若干个epoch没有改善，则提前停止\n",
    "    if counter >= patience:\n",
    "        print(f\"Early stopping after epoch {epoch+1}\")\n",
    "        break\n",
    "\n",
    "# 保存整个最优模型（结构和权重）\n",
    "if best_model is not None:\n",
    "    torch.save(best_model, 'best_model_full.pth')\n",
    "    print(\"Best model saved as 'best_model_full.pth'\")"
   ]
  },
  {
   "cell_type": "markdown",
   "metadata": {},
   "source": [
    "### **Test Vision Transformer**"
   ]
  },
  {
   "cell_type": "code",
   "execution_count": 130,
   "metadata": {},
   "outputs": [],
   "source": [
    "import matplotlib.pyplot as plt\n",
    "import seaborn as sns\n",
    "from sklearn.metrics import confusion_matrix"
   ]
  },
  {
   "cell_type": "code",
   "execution_count": null,
   "metadata": {},
   "outputs": [
    {
     "name": "stdout",
     "output_type": "stream",
     "text": [
      "Test Accuracy: 58.12%\n"
     ]
    },
    {
     "data": {
      "image/png": "[encoded data removed]",
      "text/plain": [
       "<Figure size 800x600 with 2 Axes>"
      ]
     },
     "metadata": {},
     "output_type": "display_data"
    }
   ],
   "source": [
    "# 加载最优模型\n",
    "best_model = torch.load('best_model_full.pth',weights_only= False)\n",
    "best_model.eval()  # 设置为评估模式\n",
    "\n",
    "# 在测试集上评估模型\n",
    "correct = 0\n",
    "total = 0\n",
    "all_labels = []\n",
    "all_preds = []\n",
    "\n",
    "with torch.no_grad():\n",
    "    for images, masks, labels in test_loader:\n",
    "        outputs = best_model(images)\n",
    "        _, predicted = torch.max(outputs, 1)\n",
    "        \n",
    "        total += labels.size(0)\n",
    "        correct += (predicted == labels).sum().item()\n",
    "        \n",
    "        # 存储标签和预测结果以绘制混淆矩阵\n",
    "        all_labels.extend(labels.cpu().numpy())\n",
    "        all_preds.extend(predicted.cpu().numpy())\n",
    "\n",
    "test_acc = correct / total * 100\n",
    "print(f\"Test Accuracy: {test_acc:.2f}%\")\n",
    "\n",
    "# Step 3: 计算混淆矩阵\n",
    "conf_matrix = confusion_matrix(all_labels, all_preds)\n",
    "\n",
    "# Step 4: 绘制混淆矩阵\n",
    "plt.figure(figsize=(8, 6))\n",
    "sns.heatmap(conf_matrix, annot=True, fmt=\"d\", cmap=\"Blues\", xticklabels=[\"Normal\", \"Benign\", \"Malignant\"], yticklabels=[\"Normal\", \"Benign\", \"Malignant\"])\n",
    "plt.title(\"Confusion Matrix\")\n",
    "plt.xlabel(\"Predicted Labels\")\n",
    "plt.ylabel(\"True Labels\")\n",
    "plt.show()\n"
   ]
  },
  {
   "cell_type": "markdown",
   "metadata": {},
   "source": [
    "Vision Transformer在训练过程中遇到不少困难，导致模型效果不理想：\n",
    "\n",
    "1. **样本标签不均衡问题**，导致模型会数量少的Normal，Malignant预测成为Benign，尽管采用FocalLoss，但是效果依旧不理想，最后使用SMOTE进行过采样使得三种类型的样本数量基本一致使得这个问题得以缓解（由最后的混淆矩阵可以看出，Normal，Malignant部分样本预测正确，未过采样前所有的Normal，Malignant都会被预测成为Benign），但是在训练集上进行过采样使得样本标签均衡后，在验证集和测试集上模型效果依旧不理想。\n",
    "   \n",
    "2. **模型过拟合问题**，由于数据集比较少，不适合在标准的Vision Transformer直接进行训练，因此采取了一下措施：\n",
    "   1. model = VisionTransformer(img_size=256, patch_size= 32, num_classes=3, emb_size= 256, num_heads= 6, dim_head= 32, num_layers= 3, mlp_dim= 256, dropout=0.1)，经过几次调参发现降低emb_size，num_heads，num_layers和 mlp_dim可以防止过拟合效果明显，将这几个参数进行了大幅度的下调（相比于标准版Vision Transformer）\n",
    "   2. 查阅文献发现 dropkey，在进行注意力机制的计算过程中随意丢失部分key有防止过拟合效果（但是此问题中效果不太明显\n",
    "   3. 设置早停机制\n",
    "   \n",
    "整个调参过程尝试不少参数变动，但最后模型的效果依旧不是很理想，test_accuracy不到60%。"
   ]
  },
  {
   "cell_type": "markdown",
   "metadata": {},
   "source": [
    "### **Basic Model : MLP**"
   ]
  },
  {
   "cell_type": "code",
   "execution_count": 289,
   "metadata": {},
   "outputs": [],
   "source": [
    "class MLPClassifier(nn.Module):\n",
    "    def __init__(self, input_channels=3, img_size=256, num_classes=3, hidden_layers=[512, 256, 128],dropout=0.1):\n",
    "        \"\"\"\n",
    "        :param input_channels: 输入图像的通道数，默认为3（RGB图像）\n",
    "        :param img_size: 图像的大小，默认为 256x256\n",
    "        :param num_classes: 输出类别数\n",
    "        :param hidden_layers: 一个列表，定义隐藏层的大小\n",
    "        \"\"\"\n",
    "        super(MLPClassifier, self).__init__()\n",
    "        \n",
    "        # 定义卷积层\n",
    "        self.conv1 = nn.Conv2d(in_channels=input_channels, out_channels=32, kernel_size=3, stride=1, padding=1)\n",
    "        self.conv2 = nn.Conv2d(in_channels=32, out_channels=64, kernel_size=3, stride=1, padding=1)\n",
    "        \n",
    "        # 扁平化后的图像大小\n",
    "        self.fc_input_size = 64 * (img_size // 4) * (img_size // 4)  # 假设经过两层卷积后尺寸会减少为原来的1/4\n",
    "        \n",
    "        # 定义MLP层\n",
    "        layers = []\n",
    "        in_features = self.fc_input_size\n",
    "        for hidden_size in hidden_layers:\n",
    "            layers.append(nn.Linear(in_features, hidden_size))\n",
    "            layers.append(nn.ReLU())\n",
    "            layers.append(nn.Dropout(dropout))  # 添加Dropout以防止过拟合\n",
    "            layers.append(nn.BatchNorm1d(hidden_size))  # 添加BatchNorm\n",
    "            in_features = hidden_size\n",
    "        \n",
    "        layers.append(nn.Linear(in_features, num_classes))  # 输出层\n",
    "        \n",
    "        # 将所有层组合成一个顺序容器\n",
    "        self.mlp = nn.Sequential(*layers)\n",
    "\n",
    "    def forward(self, x):\n",
    "        # 通过卷积层\n",
    "        x = self.conv1(x)\n",
    "        x = nn.ReLU()(x)\n",
    "        x = nn.MaxPool2d(2)(x)  # 使用最大池化，减少尺寸\n",
    "        \n",
    "        # print(f\"After conv1 and pool1: {x.shape}\")  # 打印conv1后输出的尺寸\n",
    "        \n",
    "        x = self.conv2(x)\n",
    "        x = nn.ReLU()(x)\n",
    "        x = nn.MaxPool2d(2)(x)  # 使用最大池化，减少尺寸\n",
    "        \n",
    "        # print(f\"After conv2 and pool2: {x.shape}\")  # 打印conv2后输出的尺寸\n",
    "\n",
    "        # 展平卷积层的输出\n",
    "        x = x.view(x.size(0), -1)  # (batch_size, flattened_size)\n",
    "        \n",
    "        # print(f\"After flatten: {x.shape}\")  # 打印展平后的输出尺寸\n",
    "        \n",
    "        # 通过MLP层\n",
    "        x = self.mlp(x)\n",
    "        \n",
    "        return x"
   ]
  },
  {
   "cell_type": "code",
   "execution_count": 290,
   "metadata": {},
   "outputs": [],
   "source": [
    "#实例化MLP模型\n",
    "model = MLPClassifier(input_channels=3, img_size=256, num_classes=3, hidden_layers=[512, 256, 128],dropout=0.1)"
   ]
  },
  {
   "cell_type": "markdown",
   "metadata": {},
   "source": [
    "基础模型采用的MLP模型，输入图像经过两层卷积层，每层后接ReLU激活函数和最大池化层，用于提取低级特征并减小空间维度。接着，卷积层输出的特征图被展平成一维向量，输入到MLP部分。MLP由三个全连接层组成，每层后加入ReLU激活函数、Dropout层（用于防止过拟合）和BatchNorm层（提升训练稳定性）。最终，通过一个全连接层输出类别预测。该架构通过卷积层提取图像特征，再通过MLP进行高级特征融合和分类，适用于图像分类任务。"
   ]
  },
  {
   "cell_type": "code",
   "execution_count": 280,
   "metadata": {},
   "outputs": [],
   "source": [
    "# 定义损失函数和优化器\n",
    "criterion = nn.CrossEntropyLoss()\n",
    "# 设置 L2 正则化的系数\n",
    "l2_lambda = 0.1  # 你可以根据需要调整这个值\n",
    "# 使用 Adam 优化器，设置 weight_decay 为 L2 正则化系数\n",
    "optimizer = optim.Adam(model.parameters(), lr=0.0001, weight_decay=l2_lambda)\n",
    "#使用学习率调度器\n",
    "scheduler = torch.optim.lr_scheduler.ReduceLROnPlateau(optimizer, 'min', patience=3, factor=0.5)"
   ]
  },
  {
   "cell_type": "code",
   "execution_count": 291,
   "metadata": {},
   "outputs": [
    {
     "name": "stdout",
     "output_type": "stream",
     "text": [
      "Epoch [1/50], Loss: 1.2448, Accuracy: 33.76%\n",
      "Validation Loss: 1.1040, Accuracy: 28.21%\n",
      "Epoch [2/50], Loss: 1.2568, Accuracy: 33.44%\n",
      "Validation Loss: 1.1320, Accuracy: 35.90%\n",
      "Epoch [3/50], Loss: 1.2153, Accuracy: 35.44%\n",
      "Validation Loss: 1.1011, Accuracy: 42.74%\n",
      "Epoch [4/50], Loss: 1.2335, Accuracy: 35.34%\n",
      "Validation Loss: 1.1451, Accuracy: 37.61%\n",
      "Epoch [5/50], Loss: 1.2434, Accuracy: 34.92%\n",
      "Validation Loss: 1.1672, Accuracy: 29.06%\n",
      "Epoch [6/50], Loss: 1.2548, Accuracy: 34.81%\n",
      "Validation Loss: 1.1579, Accuracy: 32.48%\n",
      "Epoch [7/50], Loss: 1.2363, Accuracy: 35.13%\n",
      "Validation Loss: 1.0836, Accuracy: 41.03%\n",
      "Epoch [8/50], Loss: 1.2673, Accuracy: 32.17%\n",
      "Validation Loss: 1.1402, Accuracy: 36.75%\n",
      "Epoch [9/50], Loss: 1.2387, Accuracy: 33.86%\n",
      "Validation Loss: 1.1049, Accuracy: 38.46%\n",
      "Epoch [10/50], Loss: 1.2496, Accuracy: 33.23%\n",
      "Validation Loss: 1.1104, Accuracy: 44.44%\n",
      "Epoch [11/50], Loss: 1.2545, Accuracy: 35.13%\n",
      "Validation Loss: 1.0877, Accuracy: 40.17%\n",
      "Epoch [12/50], Loss: 1.2611, Accuracy: 34.18%\n",
      "Validation Loss: 1.1003, Accuracy: 34.19%\n",
      "Early stopping after epoch 12\n",
      "Best model saved as 'best_MLP_model_full.pth'\n"
     ]
    }
   ],
   "source": [
    "# 训练模型\n",
    "num_epochs = 50  # 最多训练50个epoch\n",
    "# 设置早停参数，防止过拟合\n",
    "patience = 5  # 允许验证集损失无改善的最大 epoch 数\n",
    "best_loss = float(\"inf\")  # 初始最好的损失设为无穷大\n",
    "counter = 0  # 当前没有改善的 epoch 数\n",
    "best_model = None  # 保存最优模型\n",
    "\n",
    "for epoch in range(num_epochs):\n",
    "    model.train()  # 设置模型为训练模式\n",
    "    running_loss = 0.0\n",
    "    correct = 0\n",
    "    total = 0\n",
    "    \n",
    "    # 训练集\n",
    "    for images, labels in train_loader_resampled:\n",
    "        optimizer.zero_grad()  # 清空梯度\n",
    "        \n",
    "        # 前向传播\n",
    "        outputs = model(images)  # 得到分类结果（logits）\n",
    "        \n",
    "        # 计算损失\n",
    "        loss = criterion(outputs, labels)\n",
    "        \n",
    "        # 反向传播和优化\n",
    "        loss.backward()\n",
    "        optimizer.step()\n",
    "\n",
    "        running_loss += loss.item()\n",
    "\n",
    "        # 计算分类准确率\n",
    "        _, predicted = torch.max(outputs, 1)\n",
    "        total += labels.size(0)\n",
    "        correct += (predicted == labels).sum().item()\n",
    "\n",
    "    # 每个epoch的训练损失和准确率\n",
    "    epoch_loss = running_loss / len(train_loader)\n",
    "    epoch_acc = correct / total * 100\n",
    "    \n",
    "    # 打印训练日志\n",
    "    print(f\"Epoch [{epoch+1}/{num_epochs}], Loss: {epoch_loss:.4f}, Accuracy: {epoch_acc:.2f}%\")\n",
    "\n",
    "    # 验证集（用于早停判断）\n",
    "    model.eval()  # 设置模型为评估模式\n",
    "    val_loss = 0.0\n",
    "    val_correct = 0\n",
    "    val_total = 0\n",
    "    \n",
    "    with torch.no_grad():  # 不计算梯度\n",
    "        for images, masks, labels in val_loader:\n",
    "            labels = labels.long()\n",
    "\n",
    "            outputs = model(images)\n",
    "            loss = criterion(outputs, labels)\n",
    "\n",
    "            val_loss += loss.item()\n",
    "\n",
    "            # 计算验证集准确率\n",
    "            _, predicted = torch.max(outputs, 1)\n",
    "            val_total += labels.size(0)\n",
    "            val_correct += (predicted == labels).sum().item()\n",
    "\n",
    "    val_loss /= len(val_loader)\n",
    "    val_acc = val_correct / val_total * 100\n",
    "    \n",
    "    # 记录学习率\n",
    "    scheduler.step(val_loss)\n",
    "\n",
    "    print(f\"Validation Loss: {val_loss:.4f}, Accuracy: {val_acc:.2f}%\")\n",
    "\n",
    "    # Step 4: 判断早停和保存最优模型\n",
    "    if val_loss < best_loss:\n",
    "        best_loss = val_loss\n",
    "        counter = 0  # 如果损失有改善，则重置counter\n",
    "        best_model = model\n",
    "    else:\n",
    "        counter += 1  # 如果损失没有改善，增加counter\n",
    "\n",
    "    # 如果连续若干个epoch没有改善，则提前停止\n",
    "    if counter >= patience:\n",
    "        print(f\"Early stopping after epoch {epoch+1}\")\n",
    "        break\n",
    "\n",
    "# 保存整个最优模型（结构和权重）\n",
    "if best_model is not None:\n",
    "    torch.save(best_model, 'best_MLP_model_full.pth')\n",
    "    print(\"Best model saved as 'best_MLP_model_full.pth'\")"
   ]
  },
  {
   "cell_type": "code",
   "execution_count": 292,
   "metadata": {},
   "outputs": [
    {
     "name": "stdout",
     "output_type": "stream",
     "text": [
      "Test Accuracy: 35.90%\n"
     ]
    },
    {
     "data": {
      "image/png": "[encoded data removed]",
      "text/plain": [
       "<Figure size 800x600 with 2 Axes>"
      ]
     },
     "metadata": {},
     "output_type": "display_data"
    }
   ],
   "source": [
    "# 加载最优模型\n",
    "best_model = torch.load('best_MLP_model_full.pth',weights_only= False)\n",
    "best_model.eval()  # 设置为评估模式\n",
    "\n",
    "# 在测试集上评估模型\n",
    "correct = 0\n",
    "total = 0\n",
    "all_labels = []\n",
    "all_preds = []\n",
    "\n",
    "with torch.no_grad():\n",
    "    for images, masks, labels in test_loader:\n",
    "        outputs = best_model(images)\n",
    "        _, predicted = torch.max(outputs, 1)\n",
    "        \n",
    "        total += labels.size(0)\n",
    "        correct += (predicted == labels).sum().item()\n",
    "        \n",
    "        # 存储标签和预测结果以绘制混淆矩阵\n",
    "        all_labels.extend(labels.cpu().numpy())\n",
    "        all_preds.extend(predicted.cpu().numpy())\n",
    "\n",
    "test_acc = correct / total * 100\n",
    "print(f\"Test Accuracy: {test_acc:.2f}%\")\n",
    "\n",
    "# Step 3: 计算混淆矩阵\n",
    "conf_matrix = confusion_matrix(all_labels, all_preds)\n",
    "\n",
    "# Step 4: 绘制混淆矩阵\n",
    "plt.figure(figsize=(8, 6))\n",
    "sns.heatmap(conf_matrix, annot=True, fmt=\"d\", cmap=\"Blues\", xticklabels=[\"Normal\", \"Benign\", \"Malignant\"], yticklabels=[\"Normal\", \"Benign\", \"Malignant\"])\n",
    "plt.title(\"Confusion Matrix\")\n",
    "plt.xlabel(\"Predicted Labels\")\n",
    "plt.ylabel(\"True Labels\")\n",
    "plt.show()\n"
   ]
  },
  {
   "cell_type": "markdown",
   "metadata": {},
   "source": [
    "比较经典的模型MLP和Vision Tranformer，后者还是效果更好一些，MLP最后在测试集上的表现仅有36%（略高于33.3%，感觉MLP没学到东西，可见简单的MLP并不适合图像分类任务），Attention机制还是优于简单的MLP。"
   ]
  },
  {
   "cell_type": "markdown",
   "metadata": {},
   "source": [
    "## **Problem 2**"
   ]
  },
  {
   "cell_type": "markdown",
   "metadata": {},
   "source": [
    "### **Data Processing**"
   ]
  },
  {
   "cell_type": "code",
   "execution_count": 385,
   "metadata": {},
   "outputs": [],
   "source": [
    "# 定义图像增强和标准化\n",
    "def custom_transform(image, mask):\n",
    "    # 对图像进行处理：包括大小调整、随机水平翻转、随机旋转和标准化\n",
    "    image_transform = transforms.Compose([\n",
    "        transforms.Resize((256, 256)),  # 调整图像大小\n",
    "        transforms.RandomHorizontalFlip(),  # 随机水平翻转\n",
    "        transforms.RandomRotation(30),  # 随机旋转\n",
    "        transforms.ToTensor(),  # 转换为Tensor并归一化到[0, 1]\n",
    "        transforms.Normalize(mean=[0.485, 0.456, 0.406], std=[0.229, 0.224, 0.225])  # ImageNet的均值和标准差\n",
    "    ])\n",
    "    \n",
    "    # 对掩膜进行处理：包括大小调整、随机水平翻转、随机旋转\n",
    "    mask_transform = transforms.Compose([\n",
    "        transforms.Resize((256, 256)),  # 调整掩膜大小\n",
    "        transforms.RandomHorizontalFlip(),  # 随机水平翻转\n",
    "        transforms.RandomRotation(30),  # 随机旋转\n",
    "        transforms.ToTensor()  # 转换为Tensor\n",
    "    ])\n",
    "    \n",
    "    # 图像增强\n",
    "    image = image_transform(image)\n",
    "    mask = mask_transform(mask)\n",
    "    \n",
    "    mask = torch.round(mask)  # 将值四舍五入为 0 或 1\n",
    "    \n",
    "    # 返回处理后的图像和掩膜\n",
    "    return image, mask"
   ]
  },
  {
   "cell_type": "code",
   "execution_count": 386,
   "metadata": {},
   "outputs": [],
   "source": [
    "# 定义数据集类\n",
    "class BreastUltrasoundDataset(Dataset):\n",
    "    def __init__(self, root_dir, transform=None):\n",
    "        \"\"\"\n",
    "        :param root_dir: 包含子文件夹 ('benign', 'malignant', 'normal') 的根目录路径\n",
    "        :param transform: 用于图像增强的transform\n",
    "        \"\"\"\n",
    "        self.root_dir = root_dir\n",
    "        self.transform = transform\n",
    "        \n",
    "        # 获取子文件夹名称（即类别名）\n",
    "        self.class_names = os.listdir(root_dir)\n",
    "        \n",
    "        # 存储所有图像的路径\n",
    "        self.image_paths = []\n",
    "        for class_name in self.class_names:\n",
    "            class_folder = os.path.join(root_dir, class_name)\n",
    "            image_files = [f for f in os.listdir(class_folder) if f.endswith('.png') and '_mask' not in f]\n",
    "            for img_file in image_files:\n",
    "                self.image_paths.append((class_name, os.path.join(class_folder, img_file)))\n",
    "    \n",
    "    def __len__(self):\n",
    "        return len(self.image_paths)\n",
    "    \n",
    "    def __getitem__(self, idx):\n",
    "        class_name, img_path = self.image_paths[idx]\n",
    "        \n",
    "        # 加载原始图像和mask图像\n",
    "        image = Image.open(img_path).convert(\"RGB\")\n",
    "        mask_path = img_path.replace('.png', '_mask.png')  # mask 图像和原始图像同名，只是多了 \"_mask\"\n",
    "        mask = Image.open(mask_path).convert(\"L\")  # mask 是单通道图像，L模式\n",
    "        \n",
    "        # 应用数据增强和预处理\n",
    "        if self.transform:\n",
    "            image, mask = self.transform(image, mask)\n",
    "        \n",
    "        # 将 mask 转换为长整型标签 (B, H, W) 维度并确保是整数\n",
    "        mask = mask.squeeze(0).long()  # 去掉单通道维度并转换为 long 类型\n",
    "\n",
    "        return image, mask"
   ]
  },
  {
   "cell_type": "code",
   "execution_count": 387,
   "metadata": {},
   "outputs": [],
   "source": [
    "# 创建数据集实例\n",
    "root_dir = '/data2404/buyf/Class/ai4bio/hw3_4/Dataset_BUSI_with_GT'  # 数据集根目录，包含 bening、malignant 和 normal 文件夹\n",
    "dataset = BreastUltrasoundDataset(root_dir=root_dir,transform=custom_transform)"
   ]
  },
  {
   "cell_type": "code",
   "execution_count": 388,
   "metadata": {},
   "outputs": [
    {
     "name": "stdout",
     "output_type": "stream",
     "text": [
      "torch.Size([3, 256, 256]) torch.Size([256, 256])\n"
     ]
    }
   ],
   "source": [
    "image, mask = dataset[0]\n",
    "print(image.shape, mask.shape)"
   ]
  },
  {
   "cell_type": "code",
   "execution_count": 389,
   "metadata": {},
   "outputs": [],
   "source": [
    "#创建一个 DataLoader 用于加载数据\n",
    "# 将 dataset 划分为训练集和测试集\n",
    "train_size = int(0.8 * len(dataset))  # 80% 用于训练\n",
    "test_size = len(dataset) - train_size  # 另一半用于测试集\n",
    "\n",
    "train_dataset, test_dataset = random_split(dataset, [train_size,test_size])"
   ]
  },
  {
   "cell_type": "code",
   "execution_count": 390,
   "metadata": {},
   "outputs": [],
   "source": [
    "# 创建 DataLoader\n",
    "train_loader = DataLoader(train_dataset, batch_size=32, shuffle=False)\n",
    "test_loader = DataLoader(test_dataset, batch_size=32, shuffle=False)"
   ]
  },
  {
   "cell_type": "markdown",
   "metadata": {},
   "source": [
    "### **Model Architect :Mask2Former**"
   ]
  },
  {
   "cell_type": "code",
   "execution_count": 391,
   "metadata": {},
   "outputs": [],
   "source": [
    "class Mask2Former(nn.Module):\n",
    "    def __init__(self, num_classes=2, embed_dim=256, num_heads=8, num_layers=6):\n",
    "        super(Mask2Former, self).__init__()\n",
    "\n",
    "        # Backbone: 使用预训练的 ResNet-50 提取图像特征\n",
    "        self.backbone = models.resnet50(weights=models.ResNet50_Weights.IMAGENET1K_V1)\n",
    "        # 去掉 ResNet50 的最后两层（全连接层和池化层），只保留特征提取部分\n",
    "        self.backbone = nn.Sequential(*list(self.backbone.children())[:-2])  \n",
    "        \n",
    "        # 添加一个卷积层将 ResNet 输出的 2048 通道调整为 embed_dim\n",
    "        self.conv = nn.Conv2d(2048, embed_dim, kernel_size=1)\n",
    "        \n",
    "        # Transformer Encoder\n",
    "        self.encoder_layer = nn.TransformerEncoderLayer(\n",
    "            d_model=embed_dim, nhead=num_heads, dim_feedforward=2048, batch_first=True\n",
    "        )\n",
    "        self.encoder = nn.TransformerEncoder(self.encoder_layer, num_layers=num_layers)\n",
    "        \n",
    "        # Decoder，用于生成每个实例的掩膜\n",
    "        self.mask_head = nn.Sequential(\n",
    "            nn.Conv2d(embed_dim, 256, kernel_size=3, padding=1),\n",
    "            nn.ReLU(),\n",
    "            nn.Conv2d(256, num_classes, kernel_size=1)\n",
    "        )\n",
    "        \n",
    "    def forward(self, x):\n",
    "        # Step 1: 使用 Backbone 提取特征\n",
    "        features = self.backbone(x)  # 特征图 (B, 2048, H, W)\n",
    "\n",
    "        # Step 2: 通过一个卷积层调整通道数为 embed_dim\n",
    "        features = self.conv(features)  # 特征图 (B, embed_dim, H, W)\n",
    "        \n",
    "        # Step 3: 通过 Transformer Encoder 对特征进行处理\n",
    "        B, C, H, W = features.size()\n",
    "        features = features.flatten(2).permute(2, 0, 1)  # (H*W, B, embed_dim) -> Flatten (H*W) 和 Batches\n",
    "        encoded_features = self.encoder(features)  # (H*W, B, embed_dim)\n",
    "\n",
    "        # Step 4: 将编码器输出转换回图像空间\n",
    "        decoded_features = encoded_features.permute(1, 2, 0).reshape(B, C, H, W)\n",
    "\n",
    "        # Step 5: 通过掩膜头（Mask Head）生成掩膜\n",
    "        mask = self.mask_head(decoded_features)  # 输出掩膜 (B, num_classes, H, W)\n",
    "        \n",
    "        # Step 6: 上采样使输出与目标掩膜的大小匹配\n",
    "        mask = F.interpolate(mask, size=(256, 256), mode='bilinear', align_corners=False)\n",
    "        \n",
    "        return mask\n"
   ]
  },
  {
   "cell_type": "markdown",
   "metadata": {},
   "source": [
    "使用`Mask2Former` 简化版，一个基于 Transformer 的图像分割模型，结合了卷积神经网络和自注意力机制，架构分为以下几个步骤：\n",
    "\n",
    "1. **Backbone：** 使用预训练的 ResNet-50 提取图像的特征，并去除其最后两层（全连接层和池化层），保留用于特征提取的部分。通过卷积层将 ResNet 输出的 2048 个通道调整为指定的 `embed_dim`（如 256）。\n",
    "\n",
    "2. **Transformer Encoder：** 将提取到的特征图输入到 Transformer 编码器中，编码器层使用了多头自注意力机制和前馈神经网络来处理图像特征，增强图像的全局上下文信息。该部分是模型的核心，能够有效捕捉长距离的空间依赖关系。\n",
    "\n",
    "3. **Mask Head：** 在解码阶段，通过卷积层将编码后的特征转换为掩膜图像，最后生成每个实例的预测掩膜。\n",
    "\n",
    "4. **上采样：** 输出的掩膜图像经过上采样，调整为目标尺寸（如 256x256），以便与真实标签的尺寸匹配。\n",
    "\n",
    "这种设计结合了卷积神经网络的局部特征提取能力和 Transformer 的全局建模能力，适用于复杂的实例分割任务。"
   ]
  },
  {
   "cell_type": "markdown",
   "metadata": {},
   "source": [
    "### **Train Model**"
   ]
  },
  {
   "cell_type": "code",
   "execution_count": 392,
   "metadata": {},
   "outputs": [],
   "source": [
    "# 定义模型、损失函数和优化器\n",
    "model = Mask2Former(num_classes=2, embed_dim=256, num_heads=8, num_layers=6)\n",
    "criterion = nn.CrossEntropyLoss()  # 使用交叉熵损失\n",
    "optimizer = torch.optim.AdamW(model.parameters(), lr=1e-4)"
   ]
  },
  {
   "cell_type": "code",
   "execution_count": 393,
   "metadata": {},
   "outputs": [
    {
     "name": "stdout",
     "output_type": "stream",
     "text": [
      "Epoch [1/20], Loss: 0.2853\n",
      "Epoch [2/20], Loss: 0.2246\n",
      "Epoch [3/20], Loss: 0.2030\n",
      "Epoch [4/20], Loss: 0.1771\n",
      "Epoch [5/20], Loss: 0.1671\n",
      "Epoch [6/20], Loss: 0.1631\n",
      "Epoch [7/20], Loss: 0.1593\n",
      "Epoch [8/20], Loss: 0.1505\n",
      "Epoch [9/20], Loss: 0.1438\n",
      "Epoch [10/20], Loss: 0.1420\n",
      "Epoch [11/20], Loss: 0.1372\n",
      "Epoch [12/20], Loss: 0.1335\n",
      "Epoch [13/20], Loss: 0.1300\n",
      "Epoch [14/20], Loss: 0.1300\n",
      "Epoch [15/20], Loss: 0.1324\n",
      "Epoch [16/20], Loss: 0.1283\n",
      "Epoch [17/20], Loss: 0.1262\n",
      "Epoch [18/20], Loss: 0.1263\n",
      "Epoch [19/20], Loss: 0.1249\n",
      "Epoch [20/20], Loss: 0.1237\n"
     ]
    }
   ],
   "source": [
    "# 训练循环\n",
    "num_epochs = 20\n",
    "for epoch in range(num_epochs):\n",
    "    model.train()\n",
    "    running_loss = 0.0\n",
    "    \n",
    "    for images, masks in train_loader:\n",
    "        images = images\n",
    "        masks = masks\n",
    "        \n",
    "        # 模型前向传播\n",
    "        outputs = model(images)  # 获取掩膜输出\n",
    "        \n",
    "        # 计算损失\n",
    "        loss = criterion(outputs, masks)  # CrossEntropyLoss 需要整数标签\n",
    "        \n",
    "        # 反向传播\n",
    "        optimizer.zero_grad()\n",
    "        loss.backward()\n",
    "        optimizer.step()\n",
    "        \n",
    "        running_loss += loss.item()\n",
    "    \n",
    "    print(f\"Epoch [{epoch+1}/{num_epochs}], Loss: {running_loss/len(train_loader):.4f}\")"
   ]
  },
  {
   "cell_type": "code",
   "execution_count": 394,
   "metadata": {},
   "outputs": [
    {
     "data": {
      "image/png": "[encoded data removed]",
      "text/plain": [
       "<Figure size 1000x600 with 1 Axes>"
      ]
     },
     "metadata": {},
     "output_type": "display_data"
    }
   ],
   "source": [
    "epochs = list(range(1, 21))\n",
    "\n",
    "losses = [\n",
    "    0.2853, 0.2246, 0.2030, 0.1771, 0.1671, 0.1631, 0.1593, 0.1505, 0.1438, 0.1420, \n",
    "    0.1372, 0.1335, 0.1300, 0.1300, 0.1324, 0.1283, 0.1262, 0.1263, 0.1249, 0.1237\n",
    "]\n",
    "\n",
    "# 绘制训练损失曲线\n",
    "plt.figure(figsize=(10, 6))\n",
    "plt.plot(epochs, losses, marker='o', color='b', linestyle='-', label='Training Loss')\n",
    "\n",
    "# 设置标题和标签\n",
    "plt.title('Training Loss Curve', fontsize=16)\n",
    "plt.xlabel('Epoch', fontsize=12)\n",
    "plt.ylabel('Loss', fontsize=12)\n",
    "# 添加网格\n",
    "plt.grid(True)\n",
    "# 显示图例\n",
    "plt.legend()\n",
    "# 显示图像\n",
    "plt.show()"
   ]
  },
  {
   "cell_type": "markdown",
   "metadata": {},
   "source": [
    "可以看到20个Epoch比较合理，Training loss波动下降，在17~20进入平滑波动,下降速度缓慢的阶段，说明模型已经训练完成。"
   ]
  },
  {
   "cell_type": "markdown",
   "metadata": {},
   "source": [
    "### **Test Model**"
   ]
  },
  {
   "cell_type": "code",
   "execution_count": 383,
   "metadata": {},
   "outputs": [],
   "source": [
    "# 定义评价指标：IoU 和 Dice 系数\n",
    "def iou_score(pred, target, num_classes):\n",
    "    iou = []\n",
    "    pred = pred.view(-1)\n",
    "    target = target.view(-1)\n",
    "\n",
    "    for cls in range(num_classes):\n",
    "        intersection = torch.sum((pred == cls) & (target == cls)).item()\n",
    "        union = torch.sum((pred == cls) | (target == cls)).item()\n",
    "        iou.append(intersection / (union + 1e-6))  # 加上小的常数防止除零错误\n",
    "    return np.mean(iou)\n",
    "\n",
    "def dice_score(pred, target, num_classes):\n",
    "    dice = []\n",
    "    pred = pred.view(-1)\n",
    "    target = target.view(-1)\n",
    "    \n",
    "    for cls in range(num_classes):\n",
    "        intersection = torch.sum((pred == cls) & (target == cls)).item()\n",
    "        dice.append(2 * intersection / (torch.sum(pred == cls).item() + torch.sum(target == cls).item() + 1e-6))\n",
    "    return np.mean(dice)"
   ]
  },
  {
   "cell_type": "markdown",
   "metadata": {},
   "source": [
    "IoU(Intersection over Union)评估预测区域与实际区域重叠程度的指标,IoU 值越高，预测区域和实际区域重叠越多，模型的预测效果越好；Dice Score （(Dice Similarity Coefficient, DSC)）是另一种衡量预测区域与真实区域相似度的指标，与 IoU 相比，Dice Score 给重叠部分赋予了更大的权重，因此它通常对小的重叠区域更加敏感。"
   ]
  },
  {
   "cell_type": "code",
   "execution_count": null,
   "metadata": {},
   "outputs": [
    {
     "name": "stdout",
     "output_type": "stream",
     "text": [
      "Average IoU: 0.6334\n",
      "Average Dice Score: 0.7259\n"
     ]
    }
   ],
   "source": [
    "#测试模型\n",
    "model.eval()  # 设置为评估模式\n",
    "running_iou = 0.0\n",
    "running_dice = 0.0\n",
    "total_samples = 0\n",
    "\n",
    "with torch.no_grad():  # 不需要梯度计算\n",
    "    for images, masks in test_loader:\n",
    "        # 前向传播：获取模型预测结果\n",
    "        outputs = model(images)  # 输出 (B, num_classes, H, W)\n",
    "\n",
    "        # 使用最大值分类输出（从概率图中选择每个像素最大概率的类别）\n",
    "        pred = torch.argmax(outputs, dim=1)  # 获取预测类别 (B, H, W)\n",
    "\n",
    "        # 计算IoU和Dice系数\n",
    "        iou = iou_score(pred, masks, 2)\n",
    "        dice = dice_score(pred, masks, 2)\n",
    "\n",
    "        running_iou += iou\n",
    "        running_dice += dice\n",
    "        total_samples += 1\n",
    "\n",
    "avg_iou = running_iou / total_samples\n",
    "avg_dice = running_dice / total_samples\n",
    "\n",
    "print(f\"Average IoU: {avg_iou:.4f}\")\n",
    "print(f\"Average Dice Score: {avg_dice:.4f}\")\n"
   ]
  },
  {
   "cell_type": "markdown",
   "metadata": {},
   "source": [
    "简化版的Mask2Former整体表现效果较好，IoU和Dice Score均超过60%。"
   ]
  },
  {
   "cell_type": "markdown",
   "metadata": {},
   "source": [
    "## **Additional Question**"
   ]
  },
  {
   "cell_type": "markdown",
   "metadata": {},
   "source": [
    "这个数据集存在以下几个问题：\n",
    "\n",
    "1. **重复图像**：共有155张图像（占数据集的19%）是重复图像或相似图像.\n",
    "\n",
    "2. **不相关的图像结构**：70张图像（占数据集的8%以上）显示的是与乳腺无关的其他结构，这些图像不符合乳腺超声图像的标准。\n",
    "\n",
    "3. **病变类型不明确**：至少有19张图像（占数据集的2%以上）病变类型（正常、良性、恶性）存在疑问，这影响了其分类的准确性。\n",
    "\n",
    "4. **区域内的注释**：许多图像在感兴趣区域内包含注释（如尺寸、描述等），这些注释可能干扰分析。去除这些注释后，剩余有效图像为399张。\n"
   ]
  },
  {
   "cell_type": "code",
   "execution_count": 314,
   "metadata": {},
   "outputs": [],
   "source": [
    "# 给定的重复编号集合\n",
    "duplicate_pairs = [\n",
    "    {1, 318}, {2, 319}, {3, 320}, {4, 321}, {5, 322}, {6, 323}, {7, 324}, {8, 325}, {9, 326}, {10, 327},\n",
    "    {11, 328}, {12, 329}, {13, 330}, {14, 331}, {15, 332}, {16, 151}, {17, 425}, {18, 152}, {19, 150},\n",
    "    {21, 154}, {25, 153}, {30, 128}, {33, 130}, {35, 177}, {37, 127}, {38, 132}, {42, 131}, {42, 488},\n",
    "    {44, 129}, {50, 136}, {51, 133}, {52, 134}, {58, 135}, {60, 138}, {61, 94}, {62, 140}, {64, 141},\n",
    "    {65, 99}, {65, 139}, {65, 157}, {81, 197}, {85, 164}, {85, 489}, {86, 163}, {94, 108}, {96, 155},\n",
    "    {99, 139}, {99, 157}, {105, 156}, {108, 114}, {110, 158}, {114, 116}, {116, 119}, {119, 122}, {125, 126},\n",
    "    {131, 488}, {139, 157}, {164, 489}, {199, 248}, {200, 274}, {200, 290}, {201, 302}, {202, 301},\n",
    "    {203, 273}, {203, 289}, {204, 249}, {204, 282}, {205, 262}, {206, 303}, {207, 256}, {208, 291},\n",
    "    {209, 275}, {209, 297}, {210, 298}, {211, 254}, {213, 253}, {214, 260}, {214, 281}, {215, 270},\n",
    "    {216, 265}, {217, 268}, {218, 296}, {219, 272}, {220, 271}, {221, 246}, {222, 267}, {223, 257},\n",
    "    {224, 304}, {225, 292}, {225, 293}, {226, 263}, {226, 278}, {227, 250}, {228, 306}, {229, 259},\n",
    "    {229, 280}, {230, 252}, {231, 295}, {232, 276}, {232, 287}, {233, 299}, {234, 261}, {235, 294},\n",
    "    {236, 247}, {237, 264}, {238, 300}, {239, 258}, {240, 255}, {240, 277}, {241, 266}, {241, 279},\n",
    "    {242, 288}, {244, 251}, {245, 305}, {249, 282}, {255, 277}, {259, 280}, {260, 281}, {263, 278},\n",
    "    {266, 279}, {269, 648}, {273, 289}, {274, 290}, {275, 297}, {276, 287}, {284, 285}, {292, 293},\n",
    "    {307, 419}, {308, 424}, {309, 422}, {310, 423}, {312, 421}, {316, 426}, {333, 514}, {333, 515},\n",
    "    {395, 411}, {396, 413}, {399, 530}, {400, 412}, {404, 415}, {406, 531}, {433, 582}, {437, 681},\n",
    "    {441, 442}, {441, 444}, {441, 445}, {441, 446}, {442, 444}, {442, 445}, {442, 446}, {443, 444},\n",
    "    {443, 445}, {443, 446}, {444, 445}, {444, 446}, {445, 446}, {447, 549}, {448, 550}, {449, 547},\n",
    "    {450, 546}, {451, 551}, {451, 560}, {452, 548}, {454, 525}, {455, 553}, {464, 465}, {471, 529},\n",
    "    {476, 479}, {502, 503}, {514, 515}, {517, 518}, {522, 523}, {532, 533}, {532, 534}, {533, 534},\n",
    "    {535, 536}, {543, 544}, {551, 560}, {555, 556}, {565, 566}, {652, 660}, {666, 778}, {667, 779},\n",
    "    {668, 710}, {668, 711}, {669, 772}, {670, 728}, {671, 775}, {672, 769}, {673, 777}, {674, 771},\n",
    "    {675, 773}, {676, 770}, {677, 766}, {678, 768}, {679, 774}, {680, 767}, {682, 776}, {685, 690},\n",
    "    {685, 697}, {685, 700}, {686, 695}, {686, 703}, {687, 693}, {687, 706}, {688, 691}, {688, 694},\n",
    "    {688, 708}, {689, 692}, {689, 696}, {689, 709}, {690, 697}, {690, 700}, {691, 694}, {691, 708},\n",
    "    {692, 696}, {692, 709}, {693, 706}, {694, 708}, {695, 703}, {696, 709}, {697, 700}, {698, 699},\n",
    "    {698, 701}, {699, 701}, {702, 704}, {702, 714}, {702, 715}, {704, 714}, {704, 715}, {705, 707},\n",
    "    {705, 716}, {707, 716}, {710, 711}, {714, 715}, {744, 745}, {751, 754}\n",
    "]\n",
    "\n",
    "# 创建两个集合\n",
    "unique_list = set()\n",
    "all_list = set()\n",
    "\n",
    "# 遍历每一对，将每对的元素分到两个集合中\n",
    "for pair in duplicate_pairs:\n",
    "    # 每对都是一个集合，将它转换为列表\n",
    "    pair_list = list(pair)\n",
    "    \n",
    "    # 将第一个元素加入set_1，第二个元素加入set_2\n",
    "    if pair_list[0] not in unique_list and pair_list[1] not in unique_list:\n",
    "        unique_list.add(min(pair_list))\n",
    "        all_list.add(pair_list[0])\n",
    "        all_list.add(pair_list[1])\n",
    "\n",
    "#重复的图片仅保留其中一个        \n",
    "duplicate_list = all_list - unique_list"
   ]
  },
  {
   "cell_type": "code",
   "execution_count": 311,
   "metadata": {},
   "outputs": [],
   "source": [
    "#去除与乳腺不相关的图片\n",
    "non_breast = set([106, 166, 199, 205, 207, 210, 217,218, 223, 225, 228, 233, 235, 236,243, 247, 248, 256, 257, 262, 268,292, 293, 294, 296, \n",
    "              298, 299, 306,448, 450, 545, 546, 547, 550, 586,637, 585, 449, 617, 464, 465, 498,604,649, 686, 689, 692, 695, 696, 703,\n",
    "              705, 707, 709, 716, 722, 730, 732,737, 738, 739, 740, 741, 744, 745,747, 748, 751, 754, 757, 765])"
   ]
  },
  {
   "cell_type": "code",
   "execution_count": null,
   "metadata": {},
   "outputs": [],
   "source": [
    "#为了保证学习的效率，活检针可见的图片\n",
    "needles = set([506, 507, 610, 627, 611, 682, 776])"
   ]
  },
  {
   "cell_type": "code",
   "execution_count": 313,
   "metadata": {},
   "outputs": [],
   "source": [
    "#去除掉分类有疑惑的图片，防止干扰分类任务\n",
    "questionable = set([42, 488, 85, 489, 131, 164, 333, 514, 333, 515, 399, 530, 406, 531, 433, 582, 269, 648, 437, 681])"
   ]
  },
  {
   "cell_type": "code",
   "execution_count": 372,
   "metadata": {},
   "outputs": [],
   "source": [
    "#合并上述四种情况的图片集合\n",
    "remove_set = duplicate_list | non_breast | needles | questionable"
   ]
  },
  {
   "cell_type": "code",
   "execution_count": 367,
   "metadata": {},
   "outputs": [],
   "source": [
    "class Clean_BreastUltrasoundDataset(Dataset):\n",
    "    def __init__(self, root_dir, remove_set=None, transform=None):\n",
    "        \"\"\"\n",
    "        :param root_dir: 包含子文件夹 ('benign', 'malignant', 'normal') 的根目录路径\n",
    "        :param remove_set: 要移除的样本集合\n",
    "        :param transform: 用于图像增强的transform\n",
    "        \"\"\"\n",
    "        \n",
    "        self.root_dir = root_dir\n",
    "        self.transform = transform\n",
    "        self.remove_set = remove_set\n",
    "        \n",
    "        # 获取子文件夹名称（即类别名）\n",
    "        self.class_names = os.listdir(root_dir)\n",
    "        \n",
    "        # 存储所有图像的路径\n",
    "        self.image_paths = []\n",
    "        for class_name in self.class_names:\n",
    "            class_folder = os.path.join(root_dir, class_name)\n",
    "            image_files = [f for f in os.listdir(class_folder) if f.endswith('.png') and '_mask' not in f]\n",
    "            for img_file in image_files:\n",
    "                # 从文件名中提取编号\n",
    "                img_id = int(img_file.split('(')[-1].split(')')[0])\n",
    "                \n",
    "                # 如果编号不在重复图片编号集合中，则添加路径\n",
    "                if img_id not in remove_set:\n",
    "                    self.image_paths.append((class_name, os.path.join(class_folder, img_file)))\n",
    "\n",
    "        # 定义标签\n",
    "        self.label_map = {'normal': 0, 'benign': 1, 'malignant': 2}\n",
    "    \n",
    "    def __len__(self):\n",
    "        return len(self.image_paths)\n",
    "    \n",
    "    def __getitem__(self, idx):\n",
    "        class_name, img_path = self.image_paths[idx]\n",
    "        \n",
    "        # 加载原始图像和mask图像\n",
    "        image = Image.open(img_path).convert(\"RGB\")\n",
    "        mask_path = img_path.replace('.png', '_mask.png')  # mask 图像和原始图像同名，只是多了 \"_mask\"\n",
    "        mask = Image.open(mask_path).convert(\"L\")  # mask 是单通道图像，L模式\n",
    "        \n",
    "        # 获取标签（根据文件夹名推断标签）\n",
    "        label = self.label_map[class_name]\n",
    "        \n",
    "        # 应用数据增强和预处理\n",
    "        if self.transform:\n",
    "            image, mask = self.transform(image, mask)\n",
    "\n",
    "        # 将 mask 转换为长整型标签 (B, H, W) 维度并确保是整数\n",
    "        mask = mask.squeeze(0).long()  # 去掉单通道维度并转换为 long 类型\n",
    "        \n",
    "        return image, mask, label"
   ]
  },
  {
   "cell_type": "code",
   "execution_count": 327,
   "metadata": {},
   "outputs": [],
   "source": [
    "def custom_transform(image, mask):\n",
    "    \"\"\"\n",
    "    自定义数据增强和预处理操作。\n",
    "    \n",
    "    该函数对输入的图像和掩膜进行一系列变换：\n",
    "    - 图像进行缩放、随机水平翻转、随机旋转、转为Tensor并进行标准化。\n",
    "    - 掩膜进行相同的变换（除标准化外），以确保图像和掩膜保持一致。\n",
    "    \n",
    "    :param image: 输入的图像（PIL格式）\n",
    "    :param mask: 对应的掩膜图像（PIL格式），单通道（L模式）\n",
    "    \n",
    "    :return: 返回处理后的图像和掩膜（Tensor格式）\n",
    "    \"\"\"\n",
    "    \n",
    "    # 图像预处理变换\n",
    "    image_transform = transforms.Compose([\n",
    "        transforms.Resize((256, 256)),  # 将图像缩放到 256x256 尺寸\n",
    "        transforms.RandomHorizontalFlip(),  # 随机进行水平翻转（50%的概率）\n",
    "        transforms.RandomRotation(30),  # 随机旋转图像，旋转角度范围为[-30, 30]度\n",
    "        transforms.ToTensor(),  # 将图像从PIL格式转换为Tensor格式，并且将像素值从[0, 255]标准化到[0, 1]\n",
    "        transforms.Normalize(mean=[0.485, 0.456, 0.406], std=[0.229, 0.224, 0.225])  # 根据ImageNet的均值和标准差进行归一化\n",
    "    ])\n",
    "    \n",
    "    # 掩膜预处理变换\n",
    "    mask_transform = transforms.Compose([\n",
    "        transforms.Resize((256, 256)),  # 将掩膜缩放到 256x256 尺寸\n",
    "        transforms.RandomHorizontalFlip(),  # 随机进行水平翻转（50%的概率）\n",
    "        transforms.RandomRotation(30),  # 随机旋转掩膜，旋转角度范围为[-30, 30]度\n",
    "        transforms.ToTensor()  # 将掩膜从PIL格式转换为Tensor格式，掩膜通常是单通道图像，值为0或1\n",
    "    ])\n",
    "    \n",
    "    # 应用图像和掩膜的转换\n",
    "    image = image_transform(image)  # 对图像进行转换\n",
    "    mask = mask_transform(mask)  # 对掩膜进行转换\n",
    "    \n",
    "    return image, mask  # 返回处理后的图像和掩膜\n"
   ]
  },
  {
   "cell_type": "code",
   "execution_count": 370,
   "metadata": {},
   "outputs": [],
   "source": [
    "# 创建数据集实例\n",
    "root_dir = '/data2404/buyf/Class/ai4bio/hw3_4/Dataset_BUSI_with_GT'  # 数据集根目录，包含 bening、malignant 和 normal 文件夹\n",
    "dataset = Clean_BreastUltrasoundDataset(root_dir=root_dir, remove_set=remove_sets, transform=custom_transform)"
   ]
  },
  {
   "cell_type": "markdown",
   "metadata": {},
   "source": [
    "### **Vision Transformer(Clean_data)**"
   ]
  },
  {
   "cell_type": "markdown",
   "metadata": {},
   "source": [
    "下面展示去除掉上述四种有问题的图像后（重复，乳腺不相关，明显活检针和分类不明确），在Vision Transformer上重新训练和测试的结果，省略掉中间的过程（与Problem 1部分完全一致），仅展示训练和测试的结果。"
   ]
  },
  {
   "cell_type": "code",
   "execution_count": 354,
   "metadata": {},
   "outputs": [
    {
     "name": "stdout",
     "output_type": "stream",
     "text": [
      "Epoch [1/50], Loss: 0.4196, Accuracy: 37.22%\n",
      "Validation Loss: 1.0721, Accuracy: 40.66%\n",
      "Epoch [2/50], Loss: 0.3551, Accuracy: 37.97%\n",
      "Validation Loss: 1.0723, Accuracy: 38.46%\n",
      "Epoch [3/50], Loss: 0.3564, Accuracy: 40.51%\n",
      "Validation Loss: 1.1632, Accuracy: 38.46%\n",
      "Epoch [4/50], Loss: 0.3527, Accuracy: 43.35%\n",
      "Validation Loss: 1.0618, Accuracy: 40.66%\n",
      "Epoch [5/50], Loss: 0.3411, Accuracy: 41.85%\n",
      "Validation Loss: 1.0775, Accuracy: 42.86%\n",
      "Epoch [6/50], Loss: 0.3268, Accuracy: 44.39%\n",
      "Validation Loss: 1.0656, Accuracy: 45.05%\n",
      "Epoch [7/50], Loss: 0.3158, Accuracy: 51.27%\n",
      "Validation Loss: 1.0718, Accuracy: 40.66%\n",
      "Epoch [8/50], Loss: 0.3142, Accuracy: 49.18%\n",
      "Validation Loss: 1.1004, Accuracy: 42.86%\n",
      "Epoch [9/50], Loss: 0.3007, Accuracy: 53.66%\n",
      "Validation Loss: 1.0575, Accuracy: 40.66%\n",
      "Epoch [10/50], Loss: 0.2874, Accuracy: 56.80%\n",
      "Validation Loss: 1.0108, Accuracy: 46.15%\n",
      "Epoch [11/50], Loss: 0.2689, Accuracy: 59.64%\n",
      "Validation Loss: 1.0083, Accuracy: 47.25%\n",
      "Epoch [12/50], Loss: 0.2597, Accuracy: 62.48%\n",
      "Validation Loss: 0.9706, Accuracy: 54.95%\n",
      "Epoch [13/50], Loss: 0.2480, Accuracy: 63.23%\n",
      "Validation Loss: 1.0149, Accuracy: 47.25%\n",
      "Epoch [14/50], Loss: 0.2241, Accuracy: 68.31%\n",
      "Validation Loss: 0.9957, Accuracy: 46.15%\n",
      "Epoch [15/50], Loss: 0.1935, Accuracy: 74.14%\n",
      "Validation Loss: 0.9679, Accuracy: 53.85%\n",
      "Epoch [16/50], Loss: 0.1927, Accuracy: 72.35%\n",
      "Validation Loss: 0.9571, Accuracy: 51.65%\n",
      "Epoch [17/50], Loss: 0.1546, Accuracy: 78.62%\n",
      "Validation Loss: 1.0830, Accuracy: 43.96%\n",
      "Epoch [18/50], Loss: 0.1394, Accuracy: 80.42%\n",
      "Validation Loss: 1.1600, Accuracy: 42.86%\n",
      "Epoch [19/50], Loss: 0.1243, Accuracy: 80.57%\n",
      "Validation Loss: 1.0239, Accuracy: 53.85%\n",
      "Epoch [20/50], Loss: 0.1114, Accuracy: 84.30%\n",
      "Validation Loss: 0.9620, Accuracy: 50.55%\n",
      "Epoch [21/50], Loss: 0.1059, Accuracy: 85.20%\n",
      "Validation Loss: 1.0919, Accuracy: 48.35%\n",
      "Early stopping after epoch 21\n",
      "Best model saved as 'best_model_full.pth'\n"
     ]
    }
   ],
   "source": [
    "# 训练模型\n",
    "num_epochs = 50  # 最多训练50个epoch\n",
    "# 设置早停参数，防止过拟合\n",
    "patience = 5  # 允许验证集损失无改善的最大 epoch 数\n",
    "best_loss = float(\"inf\")  # 初始最好的损失设为无穷大\n",
    "counter = 0  # 当前没有改善的 epoch 数\n",
    "best_model_state = None  # 保存最优模型\n",
    "\n",
    "for epoch in range(num_epochs):\n",
    "    model.train()  # 设置模型为训练模式\n",
    "    running_loss = 0.0\n",
    "    correct = 0\n",
    "    total = 0\n",
    "    criterion = FocalLoss(alpha=1.0, gamma=2.0, reduction='mean')  # 可以根据需要调整 alpha 和 gamma\n",
    "    # criterion = nn.CrossEntropyLoss()\n",
    "    \n",
    "    # 训练集\n",
    "    for images, labels in train_loader_resampled:\n",
    "        optimizer.zero_grad()  # 清空梯度\n",
    "        \n",
    "        # 前向传播\n",
    "        outputs = model(images)  # 得到分类结果（logits）\n",
    "        \n",
    "        # 计算损失\n",
    "        loss = criterion(outputs, labels)\n",
    "        \n",
    "        # 反向传播和优化\n",
    "        loss.backward()\n",
    "        optimizer.step()\n",
    "\n",
    "        running_loss += loss.item()\n",
    "\n",
    "        # 计算分类准确率\n",
    "        _, predicted = torch.max(outputs, 1)\n",
    "        total += labels.size(0)\n",
    "        correct += (predicted == labels).sum().item()\n",
    "\n",
    "    # 每个epoch的训练损失和准确率\n",
    "    epoch_loss = running_loss / len(train_loader)\n",
    "    epoch_acc = correct / total * 100\n",
    "    \n",
    "    # 输出日志文件\n",
    "    logging.info(f\"{epoch+1}\\t{epoch_loss:.4f}\\t{epoch_acc:.2f}%\")\n",
    "\n",
    "    # 打印训练日志\n",
    "    print(f\"Epoch [{epoch+1}/{num_epochs}], Loss: {epoch_loss:.4f}, Accuracy: {epoch_acc:.2f}%\")\n",
    "\n",
    "    # 验证集（用于早停判断）\n",
    "    model.eval()  # 设置模型为评估模式\n",
    "    val_loss = 0.0\n",
    "    val_correct = 0\n",
    "    val_total = 0\n",
    "    # criterion = FocalLoss(alpha=10.0, gamma=2.0, reduction='mean')  # 可以根据需要调整 alpha 和 gamma\n",
    "    criterion = nn.CrossEntropyLoss()\n",
    "    \n",
    "    with torch.no_grad():  # 不计算梯度\n",
    "        for images, masks, labels in val_loader:\n",
    "            labels = labels.long()\n",
    "\n",
    "            outputs = model(images)\n",
    "            loss = criterion(outputs, labels)\n",
    "\n",
    "            val_loss += loss.item()\n",
    "\n",
    "            # 计算验证集准确率\n",
    "            _, predicted = torch.max(outputs, 1)\n",
    "            val_total += labels.size(0)\n",
    "            val_correct += (predicted == labels).sum().item()\n",
    "\n",
    "    val_loss /= len(val_loader)\n",
    "    val_acc = val_correct / val_total * 100\n",
    "    \n",
    "    # 记录学习率\n",
    "    scheduler.step(val_loss)\n",
    "\n",
    "    print(f\"Validation Loss: {val_loss:.4f}, Accuracy: {val_acc:.2f}%\")\n",
    "\n",
    "    # Step 4: 判断早停和保存最优模型\n",
    "    if val_loss < best_loss:\n",
    "        best_loss = val_loss\n",
    "        counter = 0  # 如果损失有改善，则重置counter\n",
    "        best_model = model\n",
    "    else:\n",
    "        counter += 1  # 如果损失没有改善，增加counter\n",
    "\n",
    "    # 如果连续若干个epoch没有改善，则提前停止\n",
    "    if counter >= patience:\n",
    "        print(f\"Early stopping after epoch {epoch+1}\")\n",
    "        break\n",
    "\n",
    "# 保存整个最优模型（结构和权重）\n",
    "if best_model is not None:\n",
    "    torch.save(best_model, 'best_model_full.pth')\n",
    "    print(\"Best model saved as 'best_model_full.pth'\")"
   ]
  },
  {
   "cell_type": "code",
   "execution_count": 355,
   "metadata": {},
   "outputs": [
    {
     "name": "stdout",
     "output_type": "stream",
     "text": [
      "Test Accuracy: 43.48%\n"
     ]
    },
    {
     "data": {
      "image/png": "[encoded data removed]",
      "text/plain": [
       "<Figure size 800x600 with 2 Axes>"
      ]
     },
     "metadata": {},
     "output_type": "display_data"
    }
   ],
   "source": [
    "# 加载最优模型\n",
    "best_model = torch.load('best_model_full.pth',weights_only= False)\n",
    "best_model.eval()  # 设置为评估模式\n",
    "\n",
    "# 在测试集上评估模型\n",
    "correct = 0\n",
    "total = 0\n",
    "all_labels = []\n",
    "all_preds = []\n",
    "\n",
    "with torch.no_grad():\n",
    "    for images, masks, labels in test_loader:\n",
    "        outputs = best_model(images)\n",
    "        _, predicted = torch.max(outputs, 1)\n",
    "        \n",
    "        total += labels.size(0)\n",
    "        correct += (predicted == labels).sum().item()\n",
    "        \n",
    "        # 存储标签和预测结果以绘制混淆矩阵\n",
    "        all_labels.extend(labels.cpu().numpy())\n",
    "        all_preds.extend(predicted.cpu().numpy())\n",
    "\n",
    "test_acc = correct / total * 100\n",
    "print(f\"Test Accuracy: {test_acc:.2f}%\")\n",
    "\n",
    "# Step 3: 计算混淆矩阵\n",
    "conf_matrix = confusion_matrix(all_labels, all_preds)\n",
    "\n",
    "# Step 4: 绘制混淆矩阵\n",
    "plt.figure(figsize=(8, 6))\n",
    "sns.heatmap(conf_matrix, annot=True, fmt=\"d\", cmap=\"Blues\", xticklabels=[\"Normal\", \"Benign\", \"Malignant\"], yticklabels=[\"Normal\", \"Benign\", \"Malignant\"])\n",
    "plt.title(\"Confusion Matrix\")\n",
    "plt.xlabel(\"Predicted Labels\")\n",
    "plt.ylabel(\"True Labels\")\n",
    "plt.show()"
   ]
  },
  {
   "cell_type": "markdown",
   "metadata": {},
   "source": [
    "可以看到去除掉有问题的图片后，测试集的准确性反而下降（58% -> 43%），可能由于本来数据集的图像数量较少，去除部分图像后，用于测试，验证和训练的数据更少导致模型的性能下降。"
   ]
  },
  {
   "cell_type": "markdown",
   "metadata": {},
   "source": [
    "### **Mask2Former(Clean_data)**"
   ]
  },
  {
   "cell_type": "code",
   "execution_count": null,
   "metadata": {},
   "outputs": [
    {
     "name": "stdout",
     "output_type": "stream",
     "text": [
      "Epoch [1/20], Loss: 0.2790\n",
      "Epoch [2/20], Loss: 0.2190\n",
      "Epoch [3/20], Loss: 0.2051\n",
      "Epoch [4/20], Loss: 0.1781\n",
      "Epoch [5/20], Loss: 0.1672\n",
      "Epoch [6/20], Loss: 0.1598\n",
      "Epoch [7/20], Loss: 0.1506\n",
      "Epoch [8/20], Loss: 0.1479\n",
      "Epoch [9/20], Loss: 0.1454\n",
      "Epoch [10/20], Loss: 0.1389\n",
      "Epoch [11/20], Loss: 0.1347\n",
      "Epoch [12/20], Loss: 0.1315\n",
      "Epoch [13/20], Loss: 0.1240\n",
      "Epoch [14/20], Loss: 0.1251\n",
      "Epoch [15/20], Loss: 0.1282\n",
      "Epoch [16/20], Loss: 0.1261\n",
      "Epoch [17/20], Loss: 0.1259\n",
      "Epoch [18/20], Loss: 0.1213\n",
      "Epoch [19/20], Loss: 0.1204\n",
      "Epoch [20/20], Loss: 0.1219\n"
     ]
    }
   ],
   "source": [
    "# 训练循环\n",
    "num_epochs = 20\n",
    "for epoch in range(num_epochs):\n",
    "    model.train()\n",
    "    running_loss = 0.0\n",
    "    \n",
    "    for images, masks in train_loader:\n",
    "        images = images\n",
    "        masks = masks\n",
    "        \n",
    "        # 模型前向传播\n",
    "        outputs = model(images)  # 获取掩膜输出\n",
    "        \n",
    "        # 计算损失\n",
    "        loss = criterion(outputs, masks)  # CrossEntropyLoss 需要整数标签\n",
    "        \n",
    "        # 反向传播\n",
    "        optimizer.zero_grad()\n",
    "        loss.backward()\n",
    "        optimizer.step()\n",
    "        \n",
    "        running_loss += loss.item()\n",
    "    \n",
    "    print(f\"Epoch [{epoch+1}/{num_epochs}], Loss: {running_loss/len(train_loader):.4f}\")"
   ]
  },
  {
   "cell_type": "code",
   "execution_count": 384,
   "metadata": {},
   "outputs": [
    {
     "name": "stdout",
     "output_type": "stream",
     "text": [
      "Average IoU: 0.6645\n",
      "Average Dice Score: 0.7640\n"
     ]
    }
   ],
   "source": [
    "#测试模型\n",
    "model.eval()  # 设置为评估模式\n",
    "running_iou = 0.0\n",
    "running_dice = 0.0\n",
    "total_samples = 0\n",
    "\n",
    "with torch.no_grad():  # 不需要梯度计算\n",
    "    for images, masks in test_loader:\n",
    "        # 前向传播：获取模型预测结果\n",
    "        outputs = model(images)  # 输出 (B, num_classes, H, W)\n",
    "\n",
    "        # 使用最大值分类输出（从概率图中选择每个像素最大概率的类别）\n",
    "        pred = torch.argmax(outputs, dim=1)  # 获取预测类别 (B, H, W)\n",
    "\n",
    "        # 计算IoU和Dice系数\n",
    "        iou = iou_score(pred, masks, 2)\n",
    "        dice = dice_score(pred, masks, 2)\n",
    "\n",
    "        running_iou += iou\n",
    "        running_dice += dice\n",
    "        total_samples += 1\n",
    "\n",
    "avg_iou = running_iou / total_samples\n",
    "avg_dice = running_dice / total_samples\n",
    "\n",
    "print(f\"Average IoU: {avg_iou:.4f}\")\n",
    "print(f\"Average Dice Score: {avg_dice:.4f}\")\n"
   ]
  },
  {
   "cell_type": "markdown",
   "metadata": {},
   "source": [
    "对图像数据进行筛选后，Mask2Former进行图像分割的Average IoU: 0.6334 -> 0.6645 ; Average Dice Score: 0.7259 -> 0.7640，发生小幅度提升，说明进行图像分割前进行图像数据的清洗可以提高模型的效果。"
   ]
  },
  {
   "cell_type": "markdown",
   "metadata": {},
   "source": [
    "# **Reference**"
   ]
  },
  {
   "cell_type": "markdown",
   "metadata": {},
   "source": [
    "1. Pawłowska, Anna, Piotr Karwat, and Norbert Żołek. Letter to the Editor. Re: “[Dataset of breast ultrasound images by W. Al-Dhabyani, M. Gomaa, H. Khaled & A. Fahmy, Data in Brief, 2020, 28, 104863]. *Data in Brief*, vol. 48, 2023, p. 109247. https://doi.org/10.1016/j.dib.2023.109247.\n",
    "2. Dosovitskiy, Alexey, et al. \"An Image is Worth 16x16 Words: Transformers for Image Recognition at Scale.\" *arXiv preprint arXiv:2010.11929v2* (2021). https://doi.org/10.48550/arXiv.2010.11929.\n",
    "3. Cheng, B., Misra, I., Schwing, A. G., Kirillov, A., & Girdhar, R. (2022). Masked-attention Mask Transformer for universal image segmentation. In *Proceedings of the IEEE/CVF Conference on Computer Vision and Pattern Recognition (CVPR)*.\n",
    "\n"
   ]
  }
 ],
 "metadata": {
  "kernelspec": {
   "display_name": "d2l",
   "language": "python",
   "name": "python3"
  },
  "language_info": {
   "codemirror_mode": {
    "name": "ipython",
    "version": 3
   },
   "file_extension": ".py",
   "mimetype": "text/x-python",
   "name": "python",
   "nbconvert_exporter": "python",
   "pygments_lexer": "ipython3",
   "version": "3.12.8"
  }
 },
 "nbformat": 4,
 "nbformat_minor": 2
}
